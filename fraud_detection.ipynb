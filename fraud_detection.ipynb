{
 "cells": [
  {
   "cell_type": "code",
   "execution_count": 3,
   "id": "578fe3ad",
   "metadata": {
    "_cell_guid": "b1076dfc-b9ad-4769-8c92-a6c4dae69d19",
    "_uuid": "8f2839f25d086af736a60e9eeb907d3b93b6e0e5",
    "execution": {
     "iopub.execute_input": "2025-02-15T14:46:12.962968Z",
     "iopub.status.busy": "2025-02-15T14:46:12.962614Z",
     "iopub.status.idle": "2025-02-15T14:46:15.403957Z",
     "shell.execute_reply": "2025-02-15T14:46:15.402950Z"
    },
    "papermill": {
     "duration": 2.448471,
     "end_time": "2025-02-15T14:46:15.405456",
     "exception": false,
     "start_time": "2025-02-15T14:46:12.956985",
     "status": "completed"
    },
    "tags": []
   },
   "outputs": [],
   "source": [
    "import numpy as np \n",
    "import pandas as pd \n",
    "import seaborn as sns\n",
    "import matplotlib.pyplot as plt\n",
    "from sklearn.model_selection import train_test_split, GridSearchCV, RandomizedSearchCV\n",
    "from sklearn.preprocessing import LabelEncoder , StandardScaler\n",
    "from sklearn.metrics import accuracy_score, classification_report\n",
    "from sklearn.linear_model import LogisticRegression\n",
    "from sklearn.tree import DecisionTreeClassifier\n",
    "from sklearn.ensemble import RandomForestClassifier"
   ]
  },
  {
   "cell_type": "code",
   "execution_count": 4,
   "id": "c33013d5",
   "metadata": {
    "execution": {
     "iopub.execute_input": "2025-02-15T14:46:15.418021Z",
     "iopub.status.busy": "2025-02-15T14:46:15.417570Z",
     "iopub.status.idle": "2025-02-15T14:46:17.638617Z",
     "shell.execute_reply": "2025-02-15T14:46:17.637638Z"
    },
    "papermill": {
     "duration": 2.229561,
     "end_time": "2025-02-15T14:46:17.640621",
     "exception": false,
     "start_time": "2025-02-15T14:46:15.411060",
     "status": "completed"
    },
    "tags": []
   },
   "outputs": [],
   "source": [
    "data = pd.read_csv('Bank_Transaction_Fraud_Detection.csv')"
   ]
  },
  {
   "cell_type": "code",
   "execution_count": 5,
   "id": "d273bdeb",
   "metadata": {
    "execution": {
     "iopub.execute_input": "2025-02-15T14:46:17.660533Z",
     "iopub.status.busy": "2025-02-15T14:46:17.660232Z",
     "iopub.status.idle": "2025-02-15T14:46:17.663744Z",
     "shell.execute_reply": "2025-02-15T14:46:17.662942Z"
    },
    "papermill": {
     "duration": 0.014917,
     "end_time": "2025-02-15T14:46:17.665365",
     "exception": false,
     "start_time": "2025-02-15T14:46:17.650448",
     "status": "completed"
    },
    "tags": []
   },
   "outputs": [],
   "source": [
    "import warnings\n",
    "warnings.filterwarnings(\"ignore\")"
   ]
  },
  {
   "cell_type": "markdown",
   "id": "6429ad11",
   "metadata": {
    "papermill": {
     "duration": 0.007234,
     "end_time": "2025-02-15T14:46:17.681868",
     "exception": false,
     "start_time": "2025-02-15T14:46:17.674634",
     "status": "completed"
    },
    "tags": []
   },
   "source": [
    "# Data Exploration"
   ]
  },
  {
   "cell_type": "code",
   "execution_count": 6,
   "id": "6386622b",
   "metadata": {
    "execution": {
     "iopub.execute_input": "2025-02-15T14:46:17.693345Z",
     "iopub.status.busy": "2025-02-15T14:46:17.692969Z",
     "iopub.status.idle": "2025-02-15T14:46:17.746783Z",
     "shell.execute_reply": "2025-02-15T14:46:17.745907Z"
    },
    "papermill": {
     "duration": 0.061299,
     "end_time": "2025-02-15T14:46:17.748411",
     "exception": false,
     "start_time": "2025-02-15T14:46:17.687112",
     "status": "completed"
    },
    "tags": []
   },
   "outputs": [
    {
     "data": {
      "text/html": [
       "<div>\n",
       "<style scoped>\n",
       "    .dataframe tbody tr th:only-of-type {\n",
       "        vertical-align: middle;\n",
       "    }\n",
       "\n",
       "    .dataframe tbody tr th {\n",
       "        vertical-align: top;\n",
       "    }\n",
       "\n",
       "    .dataframe thead th {\n",
       "        text-align: right;\n",
       "    }\n",
       "</style>\n",
       "<table border=\"1\" class=\"dataframe\">\n",
       "  <thead>\n",
       "    <tr style=\"text-align: right;\">\n",
       "      <th></th>\n",
       "      <th>Customer_ID</th>\n",
       "      <th>Customer_Name</th>\n",
       "      <th>Gender</th>\n",
       "      <th>Age</th>\n",
       "      <th>State</th>\n",
       "      <th>City</th>\n",
       "      <th>Bank_Branch</th>\n",
       "      <th>Account_Type</th>\n",
       "      <th>Transaction_ID</th>\n",
       "      <th>Transaction_Date</th>\n",
       "      <th>...</th>\n",
       "      <th>Merchant_Category</th>\n",
       "      <th>Account_Balance</th>\n",
       "      <th>Transaction_Device</th>\n",
       "      <th>Transaction_Location</th>\n",
       "      <th>Device_Type</th>\n",
       "      <th>Is_Fraud</th>\n",
       "      <th>Transaction_Currency</th>\n",
       "      <th>Customer_Contact</th>\n",
       "      <th>Transaction_Description</th>\n",
       "      <th>Customer_Email</th>\n",
       "    </tr>\n",
       "  </thead>\n",
       "  <tbody>\n",
       "    <tr>\n",
       "      <th>0</th>\n",
       "      <td>d5f6ec07-d69e-4f47-b9b4-7c58ff17c19e</td>\n",
       "      <td>Osha Tella</td>\n",
       "      <td>Male</td>\n",
       "      <td>60</td>\n",
       "      <td>Kerala</td>\n",
       "      <td>Thiruvananthapuram</td>\n",
       "      <td>Thiruvananthapuram Branch</td>\n",
       "      <td>Savings</td>\n",
       "      <td>4fa3208f-9e23-42dc-b330-844829d0c12c</td>\n",
       "      <td>23-01-2025</td>\n",
       "      <td>...</td>\n",
       "      <td>Restaurant</td>\n",
       "      <td>74557.27</td>\n",
       "      <td>Voice Assistant</td>\n",
       "      <td>Thiruvananthapuram, Kerala</td>\n",
       "      <td>POS</td>\n",
       "      <td>0</td>\n",
       "      <td>INR</td>\n",
       "      <td>+9198579XXXXXX</td>\n",
       "      <td>Bitcoin transaction</td>\n",
       "      <td>oshaXXXXX@XXXXX.com</td>\n",
       "    </tr>\n",
       "    <tr>\n",
       "      <th>1</th>\n",
       "      <td>7c14ad51-781a-4db9-b7bd-67439c175262</td>\n",
       "      <td>Hredhaan Khosla</td>\n",
       "      <td>Female</td>\n",
       "      <td>51</td>\n",
       "      <td>Maharashtra</td>\n",
       "      <td>Nashik</td>\n",
       "      <td>Nashik Branch</td>\n",
       "      <td>Business</td>\n",
       "      <td>c9de0c06-2c4c-40a9-97ed-3c7b8f97c79c</td>\n",
       "      <td>11-01-2025</td>\n",
       "      <td>...</td>\n",
       "      <td>Restaurant</td>\n",
       "      <td>74622.66</td>\n",
       "      <td>POS Mobile Device</td>\n",
       "      <td>Nashik, Maharashtra</td>\n",
       "      <td>Desktop</td>\n",
       "      <td>0</td>\n",
       "      <td>INR</td>\n",
       "      <td>+9191074XXXXXX</td>\n",
       "      <td>Grocery delivery</td>\n",
       "      <td>hredhaanXXXX@XXXXXX.com</td>\n",
       "    </tr>\n",
       "    <tr>\n",
       "      <th>2</th>\n",
       "      <td>3a73a0e5-d4da-45aa-85f3-528413900a35</td>\n",
       "      <td>Ekani Nazareth</td>\n",
       "      <td>Male</td>\n",
       "      <td>20</td>\n",
       "      <td>Bihar</td>\n",
       "      <td>Bhagalpur</td>\n",
       "      <td>Bhagalpur Branch</td>\n",
       "      <td>Savings</td>\n",
       "      <td>e41c55f9-c016-4ff3-872b-cae72467c75c</td>\n",
       "      <td>25-01-2025</td>\n",
       "      <td>...</td>\n",
       "      <td>Groceries</td>\n",
       "      <td>66817.99</td>\n",
       "      <td>ATM</td>\n",
       "      <td>Bhagalpur, Bihar</td>\n",
       "      <td>Desktop</td>\n",
       "      <td>0</td>\n",
       "      <td>INR</td>\n",
       "      <td>+9197745XXXXXX</td>\n",
       "      <td>Mutual fund investment</td>\n",
       "      <td>ekaniXXX@XXXXXX.com</td>\n",
       "    </tr>\n",
       "    <tr>\n",
       "      <th>3</th>\n",
       "      <td>7902f4ef-9050-4a79-857d-9c2ea3181940</td>\n",
       "      <td>Yamini Ramachandran</td>\n",
       "      <td>Female</td>\n",
       "      <td>57</td>\n",
       "      <td>Tamil Nadu</td>\n",
       "      <td>Chennai</td>\n",
       "      <td>Chennai Branch</td>\n",
       "      <td>Business</td>\n",
       "      <td>7f7ee11b-ff2c-45a3-802a-49bc47c02ecb</td>\n",
       "      <td>19-01-2025</td>\n",
       "      <td>...</td>\n",
       "      <td>Entertainment</td>\n",
       "      <td>58177.08</td>\n",
       "      <td>POS Mobile App</td>\n",
       "      <td>Chennai, Tamil Nadu</td>\n",
       "      <td>Mobile</td>\n",
       "      <td>0</td>\n",
       "      <td>INR</td>\n",
       "      <td>+9195889XXXXXX</td>\n",
       "      <td>Food delivery</td>\n",
       "      <td>yaminiXXXXX@XXXXXXX.com</td>\n",
       "    </tr>\n",
       "    <tr>\n",
       "      <th>4</th>\n",
       "      <td>3a4bba70-d9a9-4c5f-8b92-1735fd8c19e9</td>\n",
       "      <td>Kritika Rege</td>\n",
       "      <td>Female</td>\n",
       "      <td>43</td>\n",
       "      <td>Punjab</td>\n",
       "      <td>Amritsar</td>\n",
       "      <td>Amritsar Branch</td>\n",
       "      <td>Savings</td>\n",
       "      <td>f8e6ac6f-81a1-4985-bf12-f60967d852ef</td>\n",
       "      <td>30-01-2025</td>\n",
       "      <td>...</td>\n",
       "      <td>Entertainment</td>\n",
       "      <td>16108.56</td>\n",
       "      <td>Virtual Card</td>\n",
       "      <td>Amritsar, Punjab</td>\n",
       "      <td>Mobile</td>\n",
       "      <td>0</td>\n",
       "      <td>INR</td>\n",
       "      <td>+9195316XXXXXX</td>\n",
       "      <td>Debt repayment</td>\n",
       "      <td>kritikaXXXX@XXXXXX.com</td>\n",
       "    </tr>\n",
       "  </tbody>\n",
       "</table>\n",
       "<p>5 rows × 24 columns</p>\n",
       "</div>"
      ],
      "text/plain": [
       "                            Customer_ID        Customer_Name  Gender  Age  \\\n",
       "0  d5f6ec07-d69e-4f47-b9b4-7c58ff17c19e           Osha Tella    Male   60   \n",
       "1  7c14ad51-781a-4db9-b7bd-67439c175262      Hredhaan Khosla  Female   51   \n",
       "2  3a73a0e5-d4da-45aa-85f3-528413900a35       Ekani Nazareth    Male   20   \n",
       "3  7902f4ef-9050-4a79-857d-9c2ea3181940  Yamini Ramachandran  Female   57   \n",
       "4  3a4bba70-d9a9-4c5f-8b92-1735fd8c19e9         Kritika Rege  Female   43   \n",
       "\n",
       "         State                City                Bank_Branch Account_Type  \\\n",
       "0       Kerala  Thiruvananthapuram  Thiruvananthapuram Branch      Savings   \n",
       "1  Maharashtra              Nashik              Nashik Branch     Business   \n",
       "2        Bihar           Bhagalpur           Bhagalpur Branch      Savings   \n",
       "3   Tamil Nadu             Chennai             Chennai Branch     Business   \n",
       "4       Punjab            Amritsar            Amritsar Branch      Savings   \n",
       "\n",
       "                         Transaction_ID Transaction_Date  ...  \\\n",
       "0  4fa3208f-9e23-42dc-b330-844829d0c12c       23-01-2025  ...   \n",
       "1  c9de0c06-2c4c-40a9-97ed-3c7b8f97c79c       11-01-2025  ...   \n",
       "2  e41c55f9-c016-4ff3-872b-cae72467c75c       25-01-2025  ...   \n",
       "3  7f7ee11b-ff2c-45a3-802a-49bc47c02ecb       19-01-2025  ...   \n",
       "4  f8e6ac6f-81a1-4985-bf12-f60967d852ef       30-01-2025  ...   \n",
       "\n",
       "  Merchant_Category  Account_Balance Transaction_Device  \\\n",
       "0        Restaurant         74557.27    Voice Assistant   \n",
       "1        Restaurant         74622.66  POS Mobile Device   \n",
       "2         Groceries         66817.99                ATM   \n",
       "3     Entertainment         58177.08     POS Mobile App   \n",
       "4     Entertainment         16108.56       Virtual Card   \n",
       "\n",
       "         Transaction_Location Device_Type  Is_Fraud Transaction_Currency  \\\n",
       "0  Thiruvananthapuram, Kerala         POS         0                  INR   \n",
       "1         Nashik, Maharashtra     Desktop         0                  INR   \n",
       "2            Bhagalpur, Bihar     Desktop         0                  INR   \n",
       "3         Chennai, Tamil Nadu      Mobile         0                  INR   \n",
       "4            Amritsar, Punjab      Mobile         0                  INR   \n",
       "\n",
       "  Customer_Contact Transaction_Description           Customer_Email  \n",
       "0   +9198579XXXXXX     Bitcoin transaction      oshaXXXXX@XXXXX.com  \n",
       "1   +9191074XXXXXX        Grocery delivery  hredhaanXXXX@XXXXXX.com  \n",
       "2   +9197745XXXXXX  Mutual fund investment      ekaniXXX@XXXXXX.com  \n",
       "3   +9195889XXXXXX           Food delivery  yaminiXXXXX@XXXXXXX.com  \n",
       "4   +9195316XXXXXX          Debt repayment   kritikaXXXX@XXXXXX.com  \n",
       "\n",
       "[5 rows x 24 columns]"
      ]
     },
     "execution_count": 6,
     "metadata": {},
     "output_type": "execute_result"
    }
   ],
   "source": [
    "data.head()"
   ]
  },
  {
   "cell_type": "code",
   "execution_count": 7,
   "id": "a8e526c0",
   "metadata": {
    "execution": {
     "iopub.execute_input": "2025-02-15T14:46:17.760148Z",
     "iopub.status.busy": "2025-02-15T14:46:17.759895Z",
     "iopub.status.idle": "2025-02-15T14:46:18.018070Z",
     "shell.execute_reply": "2025-02-15T14:46:18.017212Z"
    },
    "papermill": {
     "duration": 0.266826,
     "end_time": "2025-02-15T14:46:18.020806",
     "exception": false,
     "start_time": "2025-02-15T14:46:17.753980",
     "status": "completed"
    },
    "tags": []
   },
   "outputs": [
    {
     "name": "stdout",
     "output_type": "stream",
     "text": [
      "<class 'pandas.core.frame.DataFrame'>\n",
      "RangeIndex: 200000 entries, 0 to 199999\n",
      "Data columns (total 24 columns):\n",
      " #   Column                   Non-Null Count   Dtype  \n",
      "---  ------                   --------------   -----  \n",
      " 0   Customer_ID              200000 non-null  object \n",
      " 1   Customer_Name            200000 non-null  object \n",
      " 2   Gender                   200000 non-null  object \n",
      " 3   Age                      200000 non-null  int64  \n",
      " 4   State                    200000 non-null  object \n",
      " 5   City                     200000 non-null  object \n",
      " 6   Bank_Branch              200000 non-null  object \n",
      " 7   Account_Type             200000 non-null  object \n",
      " 8   Transaction_ID           200000 non-null  object \n",
      " 9   Transaction_Date         200000 non-null  object \n",
      " 10  Transaction_Time         200000 non-null  object \n",
      " 11  Transaction_Amount       200000 non-null  float64\n",
      " 12  Merchant_ID              200000 non-null  object \n",
      " 13  Transaction_Type         200000 non-null  object \n",
      " 14  Merchant_Category        200000 non-null  object \n",
      " 15  Account_Balance          200000 non-null  float64\n",
      " 16  Transaction_Device       200000 non-null  object \n",
      " 17  Transaction_Location     200000 non-null  object \n",
      " 18  Device_Type              200000 non-null  object \n",
      " 19  Is_Fraud                 200000 non-null  int64  \n",
      " 20  Transaction_Currency     200000 non-null  object \n",
      " 21  Customer_Contact         200000 non-null  object \n",
      " 22  Transaction_Description  200000 non-null  object \n",
      " 23  Customer_Email           200000 non-null  object \n",
      "dtypes: float64(2), int64(2), object(20)\n",
      "memory usage: 36.6+ MB\n"
     ]
    }
   ],
   "source": [
    "data.info()"
   ]
  },
  {
   "cell_type": "code",
   "execution_count": 8,
   "id": "776d35d5",
   "metadata": {
    "execution": {
     "iopub.execute_input": "2025-02-15T14:46:18.035547Z",
     "iopub.status.busy": "2025-02-15T14:46:18.035211Z",
     "iopub.status.idle": "2025-02-15T14:46:18.042851Z",
     "shell.execute_reply": "2025-02-15T14:46:18.041755Z"
    },
    "papermill": {
     "duration": 0.017462,
     "end_time": "2025-02-15T14:46:18.044387",
     "exception": false,
     "start_time": "2025-02-15T14:46:18.026925",
     "status": "completed"
    },
    "tags": []
   },
   "outputs": [
    {
     "data": {
      "text/plain": [
       "(200000, 24)"
      ]
     },
     "execution_count": 8,
     "metadata": {},
     "output_type": "execute_result"
    }
   ],
   "source": [
    "data.shape"
   ]
  },
  {
   "cell_type": "code",
   "execution_count": 9,
   "id": "a96026c8",
   "metadata": {
    "execution": {
     "iopub.execute_input": "2025-02-15T14:46:18.062413Z",
     "iopub.status.busy": "2025-02-15T14:46:18.062109Z",
     "iopub.status.idle": "2025-02-15T14:46:18.161831Z",
     "shell.execute_reply": "2025-02-15T14:46:18.160783Z"
    },
    "papermill": {
     "duration": 0.10964,
     "end_time": "2025-02-15T14:46:18.163445",
     "exception": false,
     "start_time": "2025-02-15T14:46:18.053805",
     "status": "completed"
    },
    "tags": []
   },
   "outputs": [
    {
     "data": {
      "text/plain": [
       "<bound method NDFrame.describe of                                  Customer_ID        Customer_Name  Gender  \\\n",
       "0       d5f6ec07-d69e-4f47-b9b4-7c58ff17c19e           Osha Tella    Male   \n",
       "1       7c14ad51-781a-4db9-b7bd-67439c175262      Hredhaan Khosla  Female   \n",
       "2       3a73a0e5-d4da-45aa-85f3-528413900a35       Ekani Nazareth    Male   \n",
       "3       7902f4ef-9050-4a79-857d-9c2ea3181940  Yamini Ramachandran  Female   \n",
       "4       3a4bba70-d9a9-4c5f-8b92-1735fd8c19e9         Kritika Rege  Female   \n",
       "...                                      ...                  ...     ...   \n",
       "199995  b8bdae19-296f-48b7-9104-e055d33a09ac        Vedhika Magar  Female   \n",
       "199996  635bc099-8a93-48ee-829a-bf2283fe8fda            Aashi Pai    Male   \n",
       "199997  c1b31cc2-0905-47e8-8cc5-6461d1f3ba33          Dayita Shan  Female   \n",
       "199998  32bb8e66-f3fa-43bf-8242-dab9a6116310          Unnati Vyas  Female   \n",
       "199999  f3dd92ef-b17a-45d2-b6cb-fdbee20843fe           Gopal Rout    Male   \n",
       "\n",
       "        Age                                     State                City  \\\n",
       "0        60                                    Kerala  Thiruvananthapuram   \n",
       "1        51                               Maharashtra              Nashik   \n",
       "2        20                                     Bihar           Bhagalpur   \n",
       "3        57                                Tamil Nadu             Chennai   \n",
       "4        43                                    Punjab            Amritsar   \n",
       "...     ...                                       ...                 ...   \n",
       "199995   55  Dadra and Nagar Haveli and Daman and Diu                 Diu   \n",
       "199996   51                                   Manipur           Kangpokpi   \n",
       "199997   41                                Chandigarh          Chandigarh   \n",
       "199998   28                                 Telangana           Nizamabad   \n",
       "199999   34                                  Nagaland              Kohima   \n",
       "\n",
       "                      Bank_Branch Account_Type  \\\n",
       "0       Thiruvananthapuram Branch      Savings   \n",
       "1                   Nashik Branch     Business   \n",
       "2                Bhagalpur Branch      Savings   \n",
       "3                  Chennai Branch     Business   \n",
       "4                 Amritsar Branch      Savings   \n",
       "...                           ...          ...   \n",
       "199995                 Diu Branch     Business   \n",
       "199996           Kangpokpi Branch     Business   \n",
       "199997          Chandigarh Branch      Savings   \n",
       "199998           Nizamabad Branch     Checking   \n",
       "199999              Kohima Branch     Business   \n",
       "\n",
       "                              Transaction_ID Transaction_Date  ...  \\\n",
       "0       4fa3208f-9e23-42dc-b330-844829d0c12c       23-01-2025  ...   \n",
       "1       c9de0c06-2c4c-40a9-97ed-3c7b8f97c79c       11-01-2025  ...   \n",
       "2       e41c55f9-c016-4ff3-872b-cae72467c75c       25-01-2025  ...   \n",
       "3       7f7ee11b-ff2c-45a3-802a-49bc47c02ecb       19-01-2025  ...   \n",
       "4       f8e6ac6f-81a1-4985-bf12-f60967d852ef       30-01-2025  ...   \n",
       "...                                      ...              ...  ...   \n",
       "199995  8d856bc7-4666-4509-a067-48d67500694a       08-01-2025  ...   \n",
       "199996  f2890dbd-4e01-445d-97f5-ac56886e9037       01-01-2025  ...   \n",
       "199997  f714b758-7539-474d-b676-5fa7e2480141       28-01-2025  ...   \n",
       "199998  f6903b6a-b582-47ea-95d5-aff16bdec950       08-01-2025  ...   \n",
       "199999  b44b6e8a-1036-4ec1-b492-5e7ffc7baf6d       08-01-2025  ...   \n",
       "\n",
       "       Merchant_Category  Account_Balance Transaction_Device  \\\n",
       "0             Restaurant         74557.27    Voice Assistant   \n",
       "1             Restaurant         74622.66  POS Mobile Device   \n",
       "2              Groceries         66817.99                ATM   \n",
       "3          Entertainment         58177.08     POS Mobile App   \n",
       "4          Entertainment         16108.56       Virtual Card   \n",
       "...                  ...              ...                ...   \n",
       "199995        Restaurant         37475.11     Desktop/Laptop   \n",
       "199996         Groceries         53037.20                ATM   \n",
       "199997            Health         96225.36                ATM   \n",
       "199998       Electronics         89599.90    Voice Assistant   \n",
       "199999       Electronics         15066.24       Virtual Card   \n",
       "\n",
       "                                 Transaction_Location Device_Type  Is_Fraud  \\\n",
       "0                          Thiruvananthapuram, Kerala         POS         0   \n",
       "1                                 Nashik, Maharashtra     Desktop         0   \n",
       "2                                    Bhagalpur, Bihar     Desktop         0   \n",
       "3                                 Chennai, Tamil Nadu      Mobile         0   \n",
       "4                                    Amritsar, Punjab      Mobile         0   \n",
       "...                                               ...         ...       ...   \n",
       "199995  Diu, Dadra and Nagar Haveli and Daman and Diu         ATM         0   \n",
       "199996                             Kangpokpi, Manipur         ATM         0   \n",
       "199997                         Chandigarh, Chandigarh     Desktop         0   \n",
       "199998                           Nizamabad, Telangana     Desktop         0   \n",
       "199999                               Kohima, Nagaland      Mobile         0   \n",
       "\n",
       "       Transaction_Currency Customer_Contact     Transaction_Description  \\\n",
       "0                       INR   +9198579XXXXXX         Bitcoin transaction   \n",
       "1                       INR   +9191074XXXXXX            Grocery delivery   \n",
       "2                       INR   +9197745XXXXXX      Mutual fund investment   \n",
       "3                       INR   +9195889XXXXXX               Food delivery   \n",
       "4                       INR   +9195316XXXXXX              Debt repayment   \n",
       "...                     ...              ...                         ...   \n",
       "199995                  INR   +9192629XXXXXX              ATM withdrawal   \n",
       "199996                  INR   +9198116XXXXXX            Subscription box   \n",
       "199997                  INR   +9192601XXXXXX            Charity donation   \n",
       "199998                  INR   +9197537XXXXXX  Tourist attraction payment   \n",
       "199999                  INR   +9193961XXXXXX         Installment payment   \n",
       "\n",
       "                  Customer_Email  \n",
       "0            oshaXXXXX@XXXXX.com  \n",
       "1        hredhaanXXXX@XXXXXX.com  \n",
       "2            ekaniXXX@XXXXXX.com  \n",
       "3        yaminiXXXXX@XXXXXXX.com  \n",
       "4         kritikaXXXX@XXXXXX.com  \n",
       "...                          ...  \n",
       "199995  vedhikaXXXXX@XXXXXXX.com  \n",
       "199996       aashiXXX@XXXXXX.com  \n",
       "199997    dayitaXXXX@XXXXXXX.com  \n",
       "199998       unnatiXXX@XXXXX.com  \n",
       "199999    gopalXXXXX@XXXXXXX.com  \n",
       "\n",
       "[200000 rows x 24 columns]>"
      ]
     },
     "execution_count": 9,
     "metadata": {},
     "output_type": "execute_result"
    }
   ],
   "source": [
    "data.describe"
   ]
  },
  {
   "cell_type": "markdown",
   "id": "06e9cd5f",
   "metadata": {
    "papermill": {
     "duration": 0.005886,
     "end_time": "2025-02-15T14:46:18.175642",
     "exception": false,
     "start_time": "2025-02-15T14:46:18.169756",
     "status": "completed"
    },
    "tags": []
   },
   "source": [
    "# Data Preprocessing"
   ]
  },
  {
   "cell_type": "markdown",
   "id": "46d411d1",
   "metadata": {
    "papermill": {
     "duration": 0.005461,
     "end_time": "2025-02-15T14:46:18.186829",
     "exception": false,
     "start_time": "2025-02-15T14:46:18.181368",
     "status": "completed"
    },
    "tags": []
   },
   "source": [
    "## Step 1: Drop Unnecessary Columns\n"
   ]
  },
  {
   "cell_type": "code",
   "execution_count": 10,
   "id": "e5059afb",
   "metadata": {
    "execution": {
     "iopub.execute_input": "2025-02-15T14:46:18.199200Z",
     "iopub.status.busy": "2025-02-15T14:46:18.198939Z",
     "iopub.status.idle": "2025-02-15T14:46:18.218497Z",
     "shell.execute_reply": "2025-02-15T14:46:18.217691Z"
    },
    "papermill": {
     "duration": 0.027613,
     "end_time": "2025-02-15T14:46:18.219983",
     "exception": false,
     "start_time": "2025-02-15T14:46:18.192370",
     "status": "completed"
    },
    "tags": []
   },
   "outputs": [],
   "source": [
    "data = data.drop(columns=['Customer_Contact', 'Customer_Email', 'Customer_Name', 'Customer_ID', 'Transaction_ID', 'Merchant_ID'])"
   ]
  },
  {
   "cell_type": "code",
   "execution_count": 11,
   "id": "fc028517",
   "metadata": {
    "execution": {
     "iopub.execute_input": "2025-02-15T14:46:18.232519Z",
     "iopub.status.busy": "2025-02-15T14:46:18.232213Z",
     "iopub.status.idle": "2025-02-15T14:46:18.237937Z",
     "shell.execute_reply": "2025-02-15T14:46:18.236861Z"
    },
    "papermill": {
     "duration": 0.014279,
     "end_time": "2025-02-15T14:46:18.240207",
     "exception": false,
     "start_time": "2025-02-15T14:46:18.225928",
     "status": "completed"
    },
    "tags": []
   },
   "outputs": [
    {
     "data": {
      "text/plain": [
       "(200000, 18)"
      ]
     },
     "execution_count": 11,
     "metadata": {},
     "output_type": "execute_result"
    }
   ],
   "source": [
    "data.shape"
   ]
  },
  {
   "cell_type": "code",
   "execution_count": 12,
   "id": "e57c9074",
   "metadata": {},
   "outputs": [
    {
     "data": {
      "text/plain": [
       "Gender                     0\n",
       "Age                        0\n",
       "State                      0\n",
       "City                       0\n",
       "Bank_Branch                0\n",
       "Account_Type               0\n",
       "Transaction_Date           0\n",
       "Transaction_Time           0\n",
       "Transaction_Amount         0\n",
       "Transaction_Type           0\n",
       "Merchant_Category          0\n",
       "Account_Balance            0\n",
       "Transaction_Device         0\n",
       "Transaction_Location       0\n",
       "Device_Type                0\n",
       "Is_Fraud                   0\n",
       "Transaction_Currency       0\n",
       "Transaction_Description    0\n",
       "dtype: int64"
      ]
     },
     "execution_count": 12,
     "metadata": {},
     "output_type": "execute_result"
    }
   ],
   "source": [
    "data.isnull().sum()"
   ]
  },
  {
   "cell_type": "markdown",
   "id": "dd56441b",
   "metadata": {
    "papermill": {
     "duration": 0.007345,
     "end_time": "2025-02-15T14:46:18.260119",
     "exception": false,
     "start_time": "2025-02-15T14:46:18.252774",
     "status": "completed"
    },
    "tags": []
   },
   "source": [
    "## Step 2: Handle Missing Values\n"
   ]
  },
  {
   "cell_type": "code",
   "execution_count": 13,
   "id": "15937099",
   "metadata": {
    "execution": {
     "iopub.execute_input": "2025-02-15T14:46:18.282535Z",
     "iopub.status.busy": "2025-02-15T14:46:18.282182Z",
     "iopub.status.idle": "2025-02-15T14:46:18.429354Z",
     "shell.execute_reply": "2025-02-15T14:46:18.428341Z"
    },
    "papermill": {
     "duration": 0.159928,
     "end_time": "2025-02-15T14:46:18.431087",
     "exception": false,
     "start_time": "2025-02-15T14:46:18.271159",
     "status": "completed"
    },
    "tags": []
   },
   "outputs": [],
   "source": [
    "data = data.dropna()"
   ]
  },
  {
   "cell_type": "markdown",
   "id": "91300873",
   "metadata": {
    "papermill": {
     "duration": 0.005586,
     "end_time": "2025-02-15T14:46:18.442792",
     "exception": false,
     "start_time": "2025-02-15T14:46:18.437206",
     "status": "completed"
    },
    "tags": []
   },
   "source": [
    "## Step 3: Encode Categorical Features\n"
   ]
  },
  {
   "cell_type": "code",
   "execution_count": 14,
   "id": "2d0bdff8",
   "metadata": {
    "execution": {
     "iopub.execute_input": "2025-02-15T14:46:18.455155Z",
     "iopub.status.busy": "2025-02-15T14:46:18.454860Z",
     "iopub.status.idle": "2025-02-15T14:46:18.474880Z",
     "shell.execute_reply": "2025-02-15T14:46:18.473882Z"
    },
    "papermill": {
     "duration": 0.028476,
     "end_time": "2025-02-15T14:46:18.476931",
     "exception": false,
     "start_time": "2025-02-15T14:46:18.448455",
     "status": "completed"
    },
    "tags": []
   },
   "outputs": [],
   "source": [
    "categorical_columns = data.select_dtypes(include=['object']).columns"
   ]
  },
  {
   "cell_type": "code",
   "execution_count": 15,
   "id": "80f045d0",
   "metadata": {
    "execution": {
     "iopub.execute_input": "2025-02-15T14:46:18.497459Z",
     "iopub.status.busy": "2025-02-15T14:46:18.497176Z",
     "iopub.status.idle": "2025-02-15T14:46:19.155526Z",
     "shell.execute_reply": "2025-02-15T14:46:19.154584Z"
    },
    "papermill": {
     "duration": 0.669103,
     "end_time": "2025-02-15T14:46:19.157275",
     "exception": false,
     "start_time": "2025-02-15T14:46:18.488172",
     "status": "completed"
    },
    "tags": []
   },
   "outputs": [],
   "source": [
    "encoder = LabelEncoder()\n",
    "for col in categorical_columns :\n",
    "    data[col] = encoder.fit_transform(data[col])                "
   ]
  },
  {
   "cell_type": "markdown",
   "id": "5dbe9134",
   "metadata": {
    "papermill": {
     "duration": 0.005496,
     "end_time": "2025-02-15T14:46:19.169357",
     "exception": false,
     "start_time": "2025-02-15T14:46:19.163861",
     "status": "completed"
    },
    "tags": []
   },
   "source": [
    "## Step 4: Scale Numerical Features\n"
   ]
  },
  {
   "cell_type": "code",
   "execution_count": 16,
   "id": "8d0047d8",
   "metadata": {
    "execution": {
     "iopub.execute_input": "2025-02-15T14:46:19.181732Z",
     "iopub.status.busy": "2025-02-15T14:46:19.181386Z",
     "iopub.status.idle": "2025-02-15T14:46:19.332796Z",
     "shell.execute_reply": "2025-02-15T14:46:19.331784Z"
    },
    "papermill": {
     "duration": 0.159484,
     "end_time": "2025-02-15T14:46:19.334483",
     "exception": false,
     "start_time": "2025-02-15T14:46:19.174999",
     "status": "completed"
    },
    "tags": []
   },
   "outputs": [],
   "source": [
    "scaler = StandardScaler()\n",
    "numerical_columns = data.select_dtypes(include=['float64', 'int64']).columns\n",
    "data[numerical_columns] = scaler.fit_transform(data[numerical_columns])"
   ]
  },
  {
   "cell_type": "markdown",
   "id": "81f784d0",
   "metadata": {
    "papermill": {
     "duration": 0.005719,
     "end_time": "2025-02-15T14:46:19.346313",
     "exception": false,
     "start_time": "2025-02-15T14:46:19.340594",
     "status": "completed"
    },
    "tags": []
   },
   "source": [
    "## Step 5: Train-Test Split\n"
   ]
  },
  {
   "cell_type": "code",
   "execution_count": 17,
   "id": "fa179acb",
   "metadata": {
    "execution": {
     "iopub.execute_input": "2025-02-15T14:46:19.358650Z",
     "iopub.status.busy": "2025-02-15T14:46:19.358377Z",
     "iopub.status.idle": "2025-02-15T14:46:19.363162Z",
     "shell.execute_reply": "2025-02-15T14:46:19.362562Z"
    },
    "papermill": {
     "duration": 0.012394,
     "end_time": "2025-02-15T14:46:19.364403",
     "exception": false,
     "start_time": "2025-02-15T14:46:19.352009",
     "status": "completed"
    },
    "tags": []
   },
   "outputs": [],
   "source": [
    "data['Is_Fraud'] = data['Is_Fraud'].astype(int)"
   ]
  },
  {
   "cell_type": "code",
   "execution_count": 18,
   "id": "0b609d1f",
   "metadata": {
    "execution": {
     "iopub.execute_input": "2025-02-15T14:46:19.376317Z",
     "iopub.status.busy": "2025-02-15T14:46:19.376107Z",
     "iopub.status.idle": "2025-02-15T14:46:19.390308Z",
     "shell.execute_reply": "2025-02-15T14:46:19.389736Z"
    },
    "papermill": {
     "duration": 0.021506,
     "end_time": "2025-02-15T14:46:19.391591",
     "exception": false,
     "start_time": "2025-02-15T14:46:19.370085",
     "status": "completed"
    },
    "tags": []
   },
   "outputs": [],
   "source": [
    "X = data.drop(columns= ['Is_Fraud'])\n",
    "y = data['Is_Fraud']"
   ]
  },
  {
   "cell_type": "code",
   "execution_count": 19,
   "id": "d21b161c",
   "metadata": {
    "execution": {
     "iopub.execute_input": "2025-02-15T14:46:19.403951Z",
     "iopub.status.busy": "2025-02-15T14:46:19.403653Z",
     "iopub.status.idle": "2025-02-15T14:46:19.453180Z",
     "shell.execute_reply": "2025-02-15T14:46:19.452424Z"
    },
    "papermill": {
     "duration": 0.057445,
     "end_time": "2025-02-15T14:46:19.454717",
     "exception": false,
     "start_time": "2025-02-15T14:46:19.397272",
     "status": "completed"
    },
    "tags": []
   },
   "outputs": [],
   "source": [
    "X_train, X_test, y_train, y_test = train_test_split(X, y, test_size=0.2, random_state=42)"
   ]
  },
  {
   "cell_type": "markdown",
   "id": "106fb828",
   "metadata": {
    "papermill": {
     "duration": 0.005487,
     "end_time": "2025-02-15T14:46:19.466084",
     "exception": false,
     "start_time": "2025-02-15T14:46:19.460597",
     "status": "completed"
    },
    "tags": []
   },
   "source": [
    "# Hyperparameter Tuning"
   ]
  },
  {
   "cell_type": "markdown",
   "id": "7a885b8c",
   "metadata": {
    "papermill": {
     "duration": 0.005332,
     "end_time": "2025-02-15T14:46:19.476990",
     "exception": false,
     "start_time": "2025-02-15T14:46:19.471658",
     "status": "completed"
    },
    "tags": []
   },
   "source": [
    "## Logistic Regression"
   ]
  },
  {
   "cell_type": "code",
   "execution_count": 20,
   "id": "c322fc81",
   "metadata": {
    "execution": {
     "iopub.execute_input": "2025-02-15T14:46:19.489140Z",
     "iopub.status.busy": "2025-02-15T14:46:19.488862Z",
     "iopub.status.idle": "2025-02-15T14:46:29.547195Z",
     "shell.execute_reply": "2025-02-15T14:46:29.546478Z"
    },
    "papermill": {
     "duration": 10.066275,
     "end_time": "2025-02-15T14:46:29.548749",
     "exception": false,
     "start_time": "2025-02-15T14:46:19.482474",
     "status": "completed"
    },
    "tags": []
   },
   "outputs": [],
   "source": [
    "param_grid_lr = {'C': [0.01, 0.1, 1, 10, 100], 'solver': ['liblinear', 'lbfgs']}\n",
    "grid_lr = GridSearchCV(LogisticRegression(), param_grid_lr, cv=5, scoring='accuracy')\n",
    "grid_lr.fit(X_train, y_train)\n",
    "best_lr = grid_lr.best_estimator_"
   ]
  },
  {
   "cell_type": "code",
   "execution_count": 21,
   "id": "fbb9d8b4",
   "metadata": {},
   "outputs": [],
   "source": [
    "import pickle"
   ]
  },
  {
   "cell_type": "code",
   "execution_count": 22,
   "id": "3912291a",
   "metadata": {},
   "outputs": [],
   "source": [
    "with open('fraud_model.pkl', 'wb') as f:\n",
    "    pickle.dump({'model': best_lr, 'encoders': encoder}, f)"
   ]
  },
  {
   "cell_type": "markdown",
   "id": "af01a78b",
   "metadata": {
    "papermill": {
     "duration": 0.005507,
     "end_time": "2025-02-15T14:46:29.560353",
     "exception": false,
     "start_time": "2025-02-15T14:46:29.554846",
     "status": "completed"
    },
    "tags": []
   },
   "source": [
    "## Decision Tree"
   ]
  },
  {
   "cell_type": "code",
   "execution_count": 23,
   "id": "0064e6e7",
   "metadata": {
    "execution": {
     "iopub.execute_input": "2025-02-15T14:46:29.572502Z",
     "iopub.status.busy": "2025-02-15T14:46:29.572205Z",
     "iopub.status.idle": "2025-02-15T14:47:44.728439Z",
     "shell.execute_reply": "2025-02-15T14:47:44.727701Z"
    },
    "papermill": {
     "duration": 75.164222,
     "end_time": "2025-02-15T14:47:44.730189",
     "exception": false,
     "start_time": "2025-02-15T14:46:29.565967",
     "status": "completed"
    },
    "tags": []
   },
   "outputs": [],
   "source": [
    "param_grid_dt = {'max_depth': [3, 5, 10, None], 'min_samples_split': [2, 5, 10]}\n",
    "grid_dt = GridSearchCV(DecisionTreeClassifier(), param_grid_dt, cv=5, scoring='accuracy')\n",
    "grid_dt.fit(X_train, y_train)\n",
    "best_dt = grid_dt.best_estimator_"
   ]
  },
  {
   "cell_type": "markdown",
   "id": "1daba519",
   "metadata": {
    "papermill": {
     "duration": 0.0055,
     "end_time": "2025-02-15T14:47:44.741958",
     "exception": false,
     "start_time": "2025-02-15T14:47:44.736458",
     "status": "completed"
    },
    "tags": []
   },
   "source": [
    "## Random Forest "
   ]
  },
  {
   "cell_type": "code",
   "execution_count": 32,
   "id": "89b98d6e",
   "metadata": {
    "execution": {
     "iopub.execute_input": "2025-02-15T14:47:44.753975Z",
     "iopub.status.busy": "2025-02-15T14:47:44.753700Z",
     "iopub.status.idle": "2025-02-15T14:54:20.453344Z",
     "shell.execute_reply": "2025-02-15T14:54:20.452616Z"
    },
    "papermill": {
     "duration": 395.707598,
     "end_time": "2025-02-15T14:54:20.455050",
     "exception": false,
     "start_time": "2025-02-15T14:47:44.747452",
     "status": "completed"
    },
    "tags": []
   },
   "outputs": [],
   "source": [
    "param_grid_rf = {'n_estimators': [50, 100, 200], 'max_depth': [5, 10, None], 'min_samples_split': [2, 5, 10]}\n",
    "random_rf = RandomizedSearchCV(RandomForestClassifier(), param_grid_rf, cv=5, scoring='accuracy', n_iter=5, random_state=42)\n",
    "random_rf.fit(X_train, y_train)\n",
    "best_rf = random_rf.best_estimator_"
   ]
  },
  {
   "cell_type": "markdown",
   "id": "7585ee88",
   "metadata": {
    "papermill": {
     "duration": 0.005389,
     "end_time": "2025-02-15T14:54:20.466764",
     "exception": false,
     "start_time": "2025-02-15T14:54:20.461375",
     "status": "completed"
    },
    "tags": []
   },
   "source": [
    "# Model Evaluation"
   ]
  },
  {
   "cell_type": "code",
   "execution_count": 26,
   "id": "1ce13ae2",
   "metadata": {
    "execution": {
     "iopub.execute_input": "2025-02-15T14:54:20.478636Z",
     "iopub.status.busy": "2025-02-15T14:54:20.478375Z",
     "iopub.status.idle": "2025-02-15T14:54:20.481755Z",
     "shell.execute_reply": "2025-02-15T14:54:20.480972Z"
    },
    "papermill": {
     "duration": 0.010709,
     "end_time": "2025-02-15T14:54:20.483066",
     "exception": false,
     "start_time": "2025-02-15T14:54:20.472357",
     "status": "completed"
    },
    "tags": []
   },
   "outputs": [],
   "source": [
    "models = {\n",
    "    \"Logistic Regression\": best_lr,\n",
    "    \"Decision Tree\": best_dt,\n",
    "    # \"Random Forest\": best_rf,\n",
    "}"
   ]
  },
  {
   "cell_type": "code",
   "execution_count": 27,
   "id": "f8e58785",
   "metadata": {
    "execution": {
     "iopub.execute_input": "2025-02-15T14:54:20.494626Z",
     "iopub.status.busy": "2025-02-15T14:54:20.494427Z",
     "iopub.status.idle": "2025-02-15T14:54:21.154006Z",
     "shell.execute_reply": "2025-02-15T14:54:21.153068Z"
    },
    "papermill": {
     "duration": 0.666813,
     "end_time": "2025-02-15T14:54:21.155359",
     "exception": false,
     "start_time": "2025-02-15T14:54:20.488546",
     "status": "completed"
    },
    "tags": []
   },
   "outputs": [
    {
     "name": "stdout",
     "output_type": "stream",
     "text": [
      " Logistic Regression Classification Report:\n",
      "               precision    recall  f1-score   support\n",
      "\n",
      "           0       0.95      1.00      0.97     37955\n",
      "           4       0.00      0.00      0.00      2045\n",
      "\n",
      "    accuracy                           0.95     40000\n",
      "   macro avg       0.47      0.50      0.49     40000\n",
      "weighted avg       0.90      0.95      0.92     40000\n",
      "\n",
      " Decision Tree Classification Report:\n",
      "               precision    recall  f1-score   support\n",
      "\n",
      "           0       0.95      1.00      0.97     37955\n",
      "           4       0.00      0.00      0.00      2045\n",
      "\n",
      "    accuracy                           0.95     40000\n",
      "   macro avg       0.47      0.50      0.49     40000\n",
      "weighted avg       0.90      0.95      0.92     40000\n",
      "\n"
     ]
    }
   ],
   "source": [
    "accuracies = {}\n",
    "for name, model in models.items():\n",
    "    y_pred = model.predict(X_test)\n",
    "    acc = accuracy_score(y_test, y_pred)\n",
    "    accuracies[name] = acc\n",
    "    print(f\" {name} Classification Report:\\n\", classification_report(y_test, y_pred))"
   ]
  },
  {
   "cell_type": "markdown",
   "id": "2e255ffa",
   "metadata": {
    "papermill": {
     "duration": 0.005954,
     "end_time": "2025-02-15T14:54:21.168311",
     "exception": false,
     "start_time": "2025-02-15T14:54:21.162357",
     "status": "completed"
    },
    "tags": []
   },
   "source": [
    "# Model Comparison "
   ]
  },
  {
   "cell_type": "code",
   "execution_count": 28,
   "id": "90e080fc",
   "metadata": {
    "execution": {
     "iopub.execute_input": "2025-02-15T14:54:21.180545Z",
     "iopub.status.busy": "2025-02-15T14:54:21.180285Z",
     "iopub.status.idle": "2025-02-15T14:54:21.407724Z",
     "shell.execute_reply": "2025-02-15T14:54:21.406822Z"
    },
    "papermill": {
     "duration": 0.235182,
     "end_time": "2025-02-15T14:54:21.409159",
     "exception": false,
     "start_time": "2025-02-15T14:54:21.173977",
     "status": "completed"
    },
    "tags": []
   },
   "outputs": [
    {
     "data": {
      "image/png": "[encoded data removed]",
      "text/plain": [
       "<Figure size 800x500 with 1 Axes>"
      ]
     },
     "metadata": {},
     "output_type": "display_data"
    }
   ],
   "source": [
    "plt.figure(figsize=(8,5))\n",
    "sns.barplot(x=list(accuracies.keys()), y=list(accuracies.values()), palette=\"viridis\")\n",
    "plt.ylabel(\"Accuracy Score\")\n",
    "plt.title(\"Optimized Model Comparison\")\n",
    "plt.ylim(0.5, 1)\n",
    "plt.show()"
   ]
  },
  {
   "cell_type": "code",
   "execution_count": 29,
   "id": "7a8bc54b",
   "metadata": {},
   "outputs": [],
   "source": [
    "import joblib"
   ]
  },
  {
   "cell_type": "code",
   "execution_count": 31,
   "id": "e724f037",
   "metadata": {},
   "outputs": [
    {
     "data": {
      "text/plain": [
       "['logistic_regression.pkl']"
      ]
     },
     "execution_count": 31,
     "metadata": {},
     "output_type": "execute_result"
    }
   ],
   "source": [
    "joblib.dump(best_lr, 'logistic_regression.pkl')"
   ]
  },
  {
   "cell_type": "code",
   "execution_count": 33,
   "id": "2538ba29",
   "metadata": {},
   "outputs": [],
   "source": [
    "import skl2onnx\n",
    "from skl2onnx import convert_sklearn\n",
    "from skl2onnx.common.data_types import FloatTensorType\n",
    "\n",
    "# Example: trained sklearn model\n",
    "initial_type = [('float_input', FloatTensorType([None, X.shape[1]]))]\n",
    "onnx_model = convert_sklearn(best_dt, initial_types=initial_type)\n",
    "\n",
    "# Save ONNX model\n",
    "with open(\"logistic.onnx\", \"wb\") as f:\n",
    "    f.write(onnx_model.SerializeToString()) # type: ignore\n"
   ]
  },
  {
   "cell_type": "code",
   "execution_count": 1,
   "id": "5c244b59",
   "metadata": {},
   "outputs": [],
   "source": [
    "import onnx\n",
    "from onnx_tf.backend import prepare\n",
    "\n",
    "onnx_model = onnx.load(\"logistic.onnx\")\n",
    "tf_rep = prepare(onnx_model)\n",
    "tf_rep.export_graph(\"tf_model\")  "
   ]
  },
  {
   "cell_type": "code",
   "execution_count": 3,
   "id": "0ddc4fda",
   "metadata": {},
   "outputs": [],
   "source": [
    "import tensorflow as tf\n",
    "\n",
    "converter = tf.lite.TFLiteConverter.from_saved_model(\"model.onnx\")\n",
    "tflite_model = converter.convert()\n",
    "\n",
    "# Save TFLite model\n",
    "with open(\"model.tflite\", \"wb\") as f:\n",
    "    f.write(tflite_model)\n"
   ]
  },
  {
   "cell_type": "code",
   "execution_count": null,
   "id": "2a754cc5",
   "metadata": {},
   "outputs": [],
   "source": []
  }
 ],
 "metadata": {
  "kaggle": {
   "accelerator": "gpu",
   "dataSources": [
    {
     "datasetId": 6582717,
     "sourceId": 10632326,
     "sourceType": "datasetVersion"
    }
   ],
   "dockerImageVersionId": 30887,
   "isGpuEnabled": true,
   "isInternetEnabled": true,
   "language": "python",
   "sourceType": "notebook"
  },
  "kernelspec": {
   "display_name": "Python 3",
   "language": "python",
   "name": "python3"
  },
  "language_info": {
   "codemirror_mode": {
    "name": "ipython",
    "version": 3
   },
   "file_extension": ".py",
   "mimetype": "text/x-python",
   "name": "python",
   "nbconvert_exporter": "python",
   "pygments_lexer": "ipython3",
   "version": "3.10.0"
  },
  "papermill": {
   "default_parameters": {},
   "duration": 491.691109,
   "end_time": "2025-02-15T14:54:22.034634",
   "environment_variables": {},
   "exception": null,
   "input_path": "__notebook__.ipynb",
   "output_path": "__notebook__.ipynb",
   "parameters": {},
   "start_time": "2025-02-15T14:46:10.343525",
   "version": "2.6.0"
  }
 },
 "nbformat": 4,
 "nbformat_minor": 5
}
